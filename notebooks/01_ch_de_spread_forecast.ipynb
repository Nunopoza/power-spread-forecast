# 1. Imports
import pandas as pd
from entsoe import EntsoePandasClient
from datetime import datetime
from sklearn.model_selection import train_test_split
from sklearn.ensemble import RandomForestRegressor
from sklearn.metrics import mean_absolute_error, r2_score
import matplotlib.pyplot as plt

# 2. Parameters
api_key = "YOUR_ENTSOE_API_KEY"
client = EntsoePandasClient(api_key=api_key)

start = pd.Timestamp("2023-01-01", tz="Europe/Zurich")
end = pd.Timestamp("2024-01-01", tz="Europe/Zurich")

# 3. Download data
price_ch = client.query_day_ahead_prices("CH", start=start, end=end).tz_convert("Europe/Zurich")
price_de = client.query_day_ahead_prices("DE_LU", start=start, end=end).tz_convert("Europe/Zurich")

load_ch = client.query_load_forecast("CH", start=start, end=end)
load_de = client.query_load_forecast("DE_LU", start=start, end=end)

solar_de = client.query_wind_and_solar_forecast(country_code="DE_LU", psr_type="B16", start=start, end=end)
wind_de = client.query_wind_and_solar_forecast(country_code="DE_LU", psr_type="B19", start=start, end=end)

# 4. Construct dataset
data = pd.concat(
    [
        price_ch.rename("price_ch"),
        price_de.rename("price_de"),
        load_ch.rename("load_ch"),
        load_de.rename("load_de"),
        solar_de.rename("solar_de"),
        wind_de.rename("wind_de"),
    ],
    axis=1
).dropna()

data["spread"] = data["price_ch"] - data["price_de"]

# 5. Features
data["hour"] = data.index.hour
data["dayofweek"] = data.index.dayofweek
data["month"] = data.index.month

features = ["hour", "dayofweek", "month", "load_ch", "load_de", "solar_de", "wind_de"]
target = "spread"

X = data[features]
y = data[target]

# 6. Train/test split
X_train, X_test, y_train, y_test = train_test_split(X, y, test_size=0.2, shuffle=False)

# 7. Model training
model = RandomForestRegressor(n_estimators=200, random_state=42)
model.fit(X_train, y_train)

y_pred = model.predict(X_test)

# 8. Evaluation
mae = mean_absolute_error(y_test, y_pred)
r2 = r2_score(y_test, y_pred)

print(f"MAE: {mae:.2f} €/MWh")
print(f"R²: {r2:.3f}")

# 9. Visualization
plt.figure(figsize=(12,5))
plt.plot(y_test.index, y_test, label="Actual", linewidth=1)
plt.plot(y_test.index, y_pred, label="Predicted", linewidth=1)
plt.title("Swiss-German Day-Ahead Price Spread Forecast")
plt.xlabel("Date")
plt.ylabel("Spread (€/MWh)")
plt.legend()
plt.tight_layout()
plt.show()

# 10. Feature importance
importances = pd.Series(model.feature_importances_, index=features).sort_values(ascending=False)
importances.plot(kind="barh", title="Feature Importance", figsize=(8,4))
plt.tight_layout()
plt.show()
